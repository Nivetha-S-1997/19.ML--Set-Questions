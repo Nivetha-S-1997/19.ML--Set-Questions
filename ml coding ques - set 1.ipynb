{
 "cells": [
  {
   "cell_type": "code",
   "execution_count": null,
   "id": "2f07bf40",
   "metadata": {},
   "outputs": [],
   "source": [
    "#1.\n",
    "Question 1:A retail store wants to identify customers who make frequent purchases. Given the dataset below, write a Python program to:\n",
    "Group customers by their IDs.\n",
    "\n",
    "\n",
    "Calculate the total purchase amount per customer.\n",
    "\n",
    "\n",
    "Identify the top 3 customers with the highest purchase amounts.\n",
    "\n",
    "\n",
    "Dataset:\n",
    "data = {'Customer_ID': [101, 102, 103, 101, 104, 102, 101, 105, 102, 103],\n",
    "        'Purchase_Amount': [200, 150, 180, 220, 300, 200, 100, 400, 250, 300]}\n",
    "\n",
    "Expected Output:\n",
    "Total Purchases per Customer:\n",
    "   Customer_ID  Purchase_Amount\n",
    "0          101              520\n",
    "1          102              600\n",
    "2          103              480\n",
    "3          104              300\n",
    "4          105              400\n",
    "\n",
    "Top 3 Frequent Customers:\n",
    "   Customer_ID  Purchase_Amount\n",
    "1          102              600\n",
    "0          101              520\n",
    "2          103              480\n"
   ]
  },
  {
   "cell_type": "code",
   "execution_count": 1,
   "id": "0beafd1b-ca34-45ab-83ec-ae6625fd0a0c",
   "metadata": {},
   "outputs": [
    {
     "name": "stdout",
     "output_type": "stream",
     "text": [
      "Total Purchases per Customer:\n",
      "   Customer_ID  Purchase_Amount\n",
      "0          101              520\n",
      "1          102              600\n",
      "2          103              480\n",
      "3          104              300\n",
      "4          105              400\n",
      "\n",
      "Top 3 Frequent Customers:\n",
      "   Customer_ID  Purchase_Amount\n",
      "1          102              600\n",
      "0          101              520\n",
      "2          103              480\n"
     ]
    }
   ],
   "source": [
    "#1. Answer:\n",
    "import pandas as pd\n",
    "\n",
    "data = {'Customer_ID': [101, 102, 103, 101, 104, 102, 101, 105, 102, 103],\n",
    "        'Purchase_Amount': [200, 150, 180, 220, 300, 200, 100, 400, 250, 300]}\n",
    "\n",
    "df=pd.DataFrame(data)\n",
    "\n",
    "print('Total Purchases per Customer:')\n",
    "Total_purchase=df.groupby('Customer_ID')['Purchase_Amount'].sum().reset_index()\n",
    "print(Total_purchase)\n",
    "\n",
    "sort=Total_purchase.sort_values(by='Purchase_Amount',ascending=False).head(3)\n",
    "print('\\nTop 3 Frequent Customers:')\n",
    "print(sort)"
   ]
  },
  {
   "cell_type": "code",
   "execution_count": null,
   "id": "1b725120",
   "metadata": {},
   "outputs": [],
   "source": [
    "#2. Predicting House Prices with Linear Regression\n",
    "A real estate company wants to predict house prices based on square footage. Write a Python program to:\n",
    "Train a Linear Regression model.\n",
    "\n",
    "\n",
    "Predict house prices for given test data.\n",
    "\n",
    "\n",
    "Dataset:\n",
    "data = {'Square_Feet': [1500, 2000, 2500, 3000, 3500],\n",
    "        'Price': [300000, 400000, 500000, 600000, 700000]}\n",
    "\n",
    "Test Data: [[1800], [2800]]\n",
    "Expected Output:\n",
    "Predicted Prices:\n",
    "[360000. 560000.]\n",
    "\n"
   ]
  },
  {
   "cell_type": "code",
   "execution_count": 2,
   "id": "13beb5a5-75f1-4cbb-85f8-2394df4a51f9",
   "metadata": {},
   "outputs": [
    {
     "name": "stdout",
     "output_type": "stream",
     "text": [
      "Predicted Prices: \n",
      "[360000. 560000.]\n"
     ]
    },
    {
     "name": "stderr",
     "output_type": "stream",
     "text": [
      "C:\\Users\\DELL\\anaconda3\\Lib\\site-packages\\sklearn\\base.py:493: UserWarning: X does not have valid feature names, but LinearRegression was fitted with feature names\n",
      "  warnings.warn(\n"
     ]
    }
   ],
   "source": [
    "#2. Answer:\n",
    "import pandas as pd\n",
    "from sklearn.linear_model import LinearRegression\n",
    "\n",
    "data = {'Square_Feet': [1500, 2000, 2500, 3000, 3500],\n",
    "        'Price': [300000, 400000, 500000, 600000, 700000]}\n",
    "\n",
    "df=pd.DataFrame(data)\n",
    "\n",
    "independent=df[['Square_Feet']]\n",
    "dependent=df['Price']\n",
    "\n",
    "model=LinearRegression()\n",
    "regressor=model.fit(independent,dependent)\n",
    "\n",
    "predicted_values=regressor.predict([[1800], [2800]])\n",
    "print('Predicted Prices: ')\n",
    "print(predicted_values)"
   ]
  },
  {
   "cell_type": "code",
   "execution_count": null,
   "id": "2aae1fb9",
   "metadata": {},
   "outputs": [],
   "source": [
    "#3:\n",
    "Identifying Frequent Labels in a Dataset\n",
    "A company wants to identify the top 3 most common categories in a dataset. Given the dataset below, write a Python program to:\n",
    "Group the data by Category.\n",
    "\n",
    "\n",
    "Count the total occurrences of each category.\n",
    "\n",
    "\n",
    "Identify the top 3 most frequent categories.\n",
    "\n",
    "\n",
    "Dataset:\n",
    "data = {'Category': ['A', 'B', 'C', 'A', 'D', 'B', 'A', 'E', 'B', 'C', 'C', 'A'],\n",
    "        'Value': [10, 15, 20, 30, 25, 18, 22, 40, 35, 50, 45, 15]}\n",
    "\n",
    "Expected Output:\n",
    "\n",
    "Total Occurrences per Category:\n",
    "  Category  Count\n",
    "0        A      4\n",
    "1        B      3\n",
    "2        C      3\n",
    "3        D      1\n",
    "4        E      1\n",
    "\n",
    "Top 3 Frequent Categories:\n",
    "  Category  Count\n",
    "0        A      4\n",
    "1        B      3\n",
    "2        C      3\n"
   ]
  },
  {
   "cell_type": "code",
   "execution_count": 7,
   "id": "35b1eb16-c02e-4bae-b0a2-6a158bf18f3f",
   "metadata": {},
   "outputs": [
    {
     "name": "stdout",
     "output_type": "stream",
     "text": [
      "Total Occurrences per Category:\n",
      "  Category  Count\n",
      "0        A      4\n",
      "1        B      3\n",
      "2        C      3\n",
      "3        D      1\n",
      "4        E      1\n",
      "\n",
      "Top 3 Frequent Categories:\n",
      "  Category  Count\n",
      "0        A      4\n",
      "1        B      3\n",
      "2        C      3\n"
     ]
    }
   ],
   "source": [
    "#3. Answer:\n",
    "import pandas as pd\n",
    "\n",
    "data = {'Category': ['A', 'B', 'C', 'A', 'D', 'B', 'A', 'E', 'B', 'C', 'C', 'A'],\n",
    "        'Value': [10, 15, 20, 30, 25, 18, 22, 40, 35, 50, 45, 15]}\n",
    "\n",
    "df=pd.DataFrame(data)\n",
    "\n",
    "Frequency=df['Category'].value_counts().reset_index(name='Count')\n",
    "print('Total Occurrences per Category:')\n",
    "print(Frequency)\n",
    "\n",
    "print('\\nTop 3 Frequent Categories:')\n",
    "sort=Frequency.sort_values(by='Count',ascending=False).head(3)\n",
    "print(sort)"
   ]
  },
  {
   "cell_type": "code",
   "execution_count": null,
   "id": "e00c3d13",
   "metadata": {},
   "outputs": [],
   "source": [
    "#4.\n",
    "Predicting Missing Values Using Mean Imputation\n",
    "A dataset contains missing values in the Age column. Write a Python program to:\n",
    "Replace missing values with the mean of the column.\n",
    "\n",
    "\n",
    "Display the updated DataFrame.\n",
    "\n",
    "\n",
    "Dataset:\n",
    "data = {'Name': ['Alice', 'Bob', 'Charlie', 'David', 'Eve'],\n",
    "        'Age': [25, 30, None, 35, None]}\n",
    "\n",
    "Expected Output:\n",
    "\n",
    "Original Data:\n",
    "     Name   Age\n",
    "0  Alice  25.0\n",
    "1    Bob  30.0\n",
    "2 Charlie   NaN\n",
    "3  David  35.0\n",
    "4    Eve   NaN\n",
    "\n",
    "Data after Imputation:\n",
    "     Name   Age\n",
    "0  Alice  25.0\n",
    "1    Bob  30.0\n",
    "2 Charlie  30.0\n",
    "3  David  35.0\n",
    "4    Eve  30.0\n"
   ]
  },
  {
   "cell_type": "code",
   "execution_count": 5,
   "id": "88a6c32c-9afb-4d50-8286-b947e23fd3f3",
   "metadata": {},
   "outputs": [
    {
     "name": "stdout",
     "output_type": "stream",
     "text": [
      "Original Data:\n",
      "      Name   Age\n",
      "0    Alice  25.0\n",
      "1      Bob  30.0\n",
      "2  Charlie   NaN\n",
      "3    David  35.0\n",
      "4      Eve   NaN\n",
      "\n",
      "Data after Imputation:\n",
      "      Name   Age\n",
      "0    Alice  25.0\n",
      "1      Bob  30.0\n",
      "2  Charlie  30.0\n",
      "3    David  35.0\n",
      "4      Eve  30.0\n"
     ]
    }
   ],
   "source": [
    "#4. Answer:\n",
    "import pandas as pd\n",
    "from sklearn.impute import SimpleImputer\n",
    "\n",
    "data = {'Name': ['Alice', 'Bob', 'Charlie', 'David', 'Eve'],\n",
    "        'Age': [25, 30, None, 35, None]}\n",
    "\n",
    "dataset=pd.DataFrame(data)\n",
    "\n",
    "print('Original Data:')\n",
    "print(dataset)\n",
    "\n",
    "imp=SimpleImputer(strategy='mean')\n",
    "dataset['Age']=imp.fit_transform(dataset[['Age']])\n",
    "\n",
    "print('\\nData after Imputation:')\n",
    "print(dataset)"
   ]
  },
  {
   "cell_type": "code",
   "execution_count": null,
   "id": "46620661",
   "metadata": {},
   "outputs": [],
   "source": [
    "# 5: \n",
    "Implementing a Simple Linear Regression Model\n",
    "You are given a dataset with Experience (years) and Salary ($). Write a Python program to:\n",
    "Train a Linear Regression model.\n",
    "\n",
    "\n",
    "Predict the salary for an individual with 6 years of experience.\n",
    "\n",
    "\n",
    "Dataset:\n",
    "import pandas as pd\n",
    "\n",
    "data = {'Experience': [1, 2, 3, 4, 5], \n",
    "        'Salary': [30000, 35000, 40000, 45000, 50000]}\n",
    "df = pd.DataFrame(data)\n",
    "\n",
    "Expected Output (Example):\n",
    "\n",
    "Predicted Salary for 6 years of experience: $55000"
   ]
  },
  {
   "cell_type": "code",
   "execution_count": 6,
   "id": "2af98454",
   "metadata": {},
   "outputs": [
    {
     "name": "stdout",
     "output_type": "stream",
     "text": [
      "Predicted Salary for 6 years of experience: $ [55000.]\n"
     ]
    },
    {
     "name": "stderr",
     "output_type": "stream",
     "text": [
      "C:\\Users\\DELL\\anaconda3\\Lib\\site-packages\\sklearn\\base.py:493: UserWarning: X does not have valid feature names, but LinearRegression was fitted with feature names\n",
      "  warnings.warn(\n"
     ]
    }
   ],
   "source": [
    "#5. Answer:\n",
    "import pandas as pd\n",
    "from sklearn.linear_model import LinearRegression\n",
    "\n",
    "data = {'Experience': [1, 2, 3, 4, 5], \n",
    "        'Salary': [30000, 35000, 40000, 45000, 50000]}\n",
    "\n",
    "df=pd.DataFrame(data)\n",
    "\n",
    "X=df[['Experience']]\n",
    "Y=df['Salary']\n",
    "\n",
    "model=LinearRegression()\n",
    "model.fit(X,Y)\n",
    "\n",
    "prediction=model.predict([[6]])\n",
    "print('Predicted Salary for 6 years of experience: $',prediction)"
   ]
  },
  {
   "cell_type": "code",
   "execution_count": null,
   "id": "4d1b5bf3-8922-4b97-b857-c0691ec9f1ef",
   "metadata": {},
   "outputs": [],
   "source": []
  }
 ],
 "metadata": {
  "kernelspec": {
   "display_name": "Python 3 (ipykernel)",
   "language": "python",
   "name": "python3"
  },
  "language_info": {
   "codemirror_mode": {
    "name": "ipython",
    "version": 3
   },
   "file_extension": ".py",
   "mimetype": "text/x-python",
   "name": "python",
   "nbconvert_exporter": "python",
   "pygments_lexer": "ipython3",
   "version": "3.12.7"
  }
 },
 "nbformat": 4,
 "nbformat_minor": 5
}
